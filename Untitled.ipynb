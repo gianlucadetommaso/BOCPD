{
 "cells": [
  {
   "cell_type": "code",
   "execution_count": 290,
   "metadata": {
    "collapsed": true
   },
   "outputs": [],
   "source": [
    "import numpy as np\n",
    "import matplotlib.pyplot as plt\n",
    "from scipy import optimize\n",
    "\n",
    "%matplotlib inline"
   ]
  },
  {
   "cell_type": "code",
   "execution_count": 538,
   "metadata": {},
   "outputs": [],
   "source": [
    "class HAWKES:\n",
    "    def __init__(self, ttold, t):\n",
    "        self.ttold = ttold\n",
    "        self.t     = t\n",
    "        self.m     = len(ttold) if isinstance(ttold, int) == False else 1\n",
    "        self.tm    = ttold[-1] if self.m != 1 else ttold\n",
    "        self.t_ttold = (t - ttold).reshape(self.m,1)\n",
    "        self.tm_ttold = (self.tm - ttold).reshape(self.m,1)\n",
    "        \n",
    "        self.DoF = 3\n",
    "        self.mu_idx = 0\n",
    "        self.gamma_idx = 1\n",
    "        self.delta_idx = 2\n",
    "        \n",
    "        self.hyperMean = np.zeros( (self.DoF, 1) )\n",
    "        self.hyperVar  = 5 * np.ones( (self.DoF, 1) )\n",
    "        \n",
    "    def getIntensity(self, thetas):\n",
    "        nSamples = thetas.size // self.DoF\n",
    "        expthetas = np.exp( thetas.reshape(self.DoF, nSamples) )\n",
    "        mus = expthetas[self.mu_idx,:]\n",
    "        gammas = expthetas[self.gamma_idx,:]\n",
    "        deltas = expthetas[self.delta_idx,:]\n",
    "        \n",
    "        tmp = mus + gammas * np.sum( np.exp( - deltas * self.t_ttold ), 0 )\n",
    "        return tmp if nSamples > 1 else tmp.squeeze()\n",
    "    \n",
    "    def getCompensator(self, thetas):\n",
    "        nSamples = thetas.size // self.DoF\n",
    "        expthetas = np.exp( thetas.reshape(self.DoF, nSamples) )\n",
    "        mus = expthetas[self.mu_idx,:]\n",
    "        gammas = expthetas[self.gamma_idx,:]\n",
    "        deltas = expthetas[self.delta_idx,:]\n",
    "        \n",
    "        tmp =  mus * (self.t - self.tm) + gammas / deltas * \\\n",
    "            np.sum( np.exp( - deltas * self.tm_ttold ) - np.exp( - deltas * self.t_ttold ) , 0 )\n",
    "        return tmp if nSamples > 1 else tmp.squeeze()\n",
    "    \n",
    "    def getMinusLogLikelihood(self, thetas):\n",
    "        return self.getCompensator(thetas) - np.log( self.getIntensity(thetas) )\n",
    "    \n",
    "    def getMinusLogPrior(self, thetas):\n",
    "        nSamples = thetas.size // self.DoF\n",
    "        thetas = thetas.reshape(self.DoF, nSamples)\n",
    "        \n",
    "        shift = thetas - self.hyperMean\n",
    "        tmp = 0.5 * np.sum( shift ** 2 / self.hyperVar, 0 )\n",
    "        return tmp if nSamples > 1 else tmp.squeeze()\n",
    "    \n",
    "    def getMinusLogPosterior(self, thetas):\n",
    "        return self.getMinusLogPrior(thetas) + self.getMinusLogLikelihood(thetas)\n",
    "    \n",
    "    def getGradientMinusLogPosterior(self, thetas):\n",
    "        nSamples = thetas.size // self.DoF\n",
    "        thetas = thetas.reshape(self.DoF, nSamples)\n",
    "        expthetas = np.exp( thetas.reshape(self.DoF, nSamples) )\n",
    "        mus = expthetas[self.mu_idx,:]\n",
    "        gammas = expthetas[self.gamma_idx,:]\n",
    "        deltas = expthetas[self.delta_idx,:]\n",
    "        \n",
    "        # Expressions\n",
    "        lams = self.getIntensity(thetas)\n",
    "        lams_mus2gammas = (lams - mus) / gammas\n",
    "        \n",
    "        f = np.sum( np.exp( - deltas * self.tm_ttold ) - np.exp( - deltas * self.t_ttold ) , 0 )\n",
    "        df = np.sum( - self.tm_ttold * np.exp( - deltas * self.tm_ttold ) \\\n",
    "                             + self.t_ttold  * np.exp( - deltas * self.t_ttold ) , 0 )\n",
    "        \n",
    "        gmllkd = np.zeros( (self.DoF, nSamples) )\n",
    "        \n",
    "        gmllkd[self.mu_idx,:]    = self.t - self.tm - 1 / lams\n",
    "        gmllkd[self.gamma_idx,:] = f / deltas - lams_mus2gammas / lams\n",
    "        gmllkd[self.delta_idx,:] = gammas * ( ( df - f / deltas ) / deltas \\\n",
    "                                              + np.sum( self.t_ttold * np.exp( - deltas * self.t_ttold ), 0 ) / lams )\n",
    "        gmllkd *= expthetas\n",
    "        \n",
    "        gmlpr = (thetas - self.hyperMean) / self.hyperVar\n",
    "        tmp = gmlpr + gmllkd\n",
    "        return tmp if nSamples > 1 else tmp.squeeze()\n",
    "    \n",
    "    def getHessianMinusLogPosterior(self, thetas):\n",
    "        nSamples = thetas.size // self.DoF\n",
    "        thetas = thetas.reshape(self.DoF, nSamples)       \n",
    "        expthetas = np.exp( thetas.reshape(self.DoF, nSamples) )\n",
    "        mus = expthetas[self.mu_idx,:]\n",
    "        gammas = expthetas[self.gamma_idx,:]\n",
    "        deltas = expthetas[self.delta_idx,:]\n",
    "        \n",
    "        # Expressions\n",
    "        lams = self.getIntensity(thetas)\n",
    "        lams2 = lams ** 2\n",
    "        lams_mus2gammas = (lams - mus) / gammas\n",
    "        lams_mus2gammas2 = lams_mus2gammas ** 2\n",
    "        ddeltalams = - gammas * np.sum( self.t_ttold * np.exp( - deltas * self.t_ttold ), 0 )\n",
    "        d2deltalams =  gammas * np.sum( self.t_ttold ** 2 * np.exp( - deltas * self.t_ttold ), 0 )\n",
    "        \n",
    "        f = np.sum( np.exp( - deltas * self.tm_ttold ) - np.exp( - deltas * self.t_ttold ) , 0 )\n",
    "        df = np.sum( - self.tm_ttold * np.exp( - deltas * self.tm_ttold ) \\\n",
    "                             + self.t_ttold  * np.exp( - deltas * self.t_ttold ) , 0 )        \n",
    "        d2f = np.sum( self.tm_ttold ** 2 * np.exp( - deltas * self.tm_ttold ) \\\n",
    "                              - self.t_ttold ** 2 * np.exp( - deltas * self.t_ttold ) , 0 )\n",
    "        \n",
    "        Hmllkd = np.zeros( (self.DoF, self.DoF, nSamples) )\n",
    "        \n",
    "        Hmllkd[self.mu_idx, self.mu_idx, :] = 1 / lams2\n",
    "        Hmllkd[self.mu_idx, self.gamma_idx, :] = lams_mus2gammas / lams2\n",
    "        Hmllkd[self.mu_idx, self.delta_idx, :] = ddeltalams / lams2\n",
    "        Hmllkd[self.gamma_idx, self.gamma_idx, :] = lams_mus2gammas2 / lams2\n",
    "        Hmllkd[self.gamma_idx, self.delta_idx, :] = (df - f / deltas) / deltas - mus / gammas * ddeltalams / lams2\n",
    "        Hmllkd[self.delta_idx, self.delta_idx, :] = gammas / deltas * (2 * f / deltas ** 2 - 2 * df / deltas + d2f ) \\\n",
    "                                                    - ( d2deltalams * lams - ddeltalams ** 2 ) / lams2\n",
    "        Hmllkd[self.gamma_idx, self.mu_idx, :] = Hmllkd[self.mu_idx, self.gamma_idx, :]\n",
    "        Hmllkd[self.delta_idx, self.mu_idx, :] = Hmllkd[self.mu_idx, self.delta_idx, :]\n",
    "        Hmllkd[self.delta_idx, self.gamma_idx, :] = Hmllkd[self.gamma_idx, self.delta_idx, :]\n",
    "        \n",
    "        tmp = Hmllkd\n",
    "        return tmp if nSamples > 1 else tmp.squeeze()\n",
    "    \n",
    "    def simulateNewEvent(self, thetas):\n",
    "        nSamples = thetas.size // self.DoF\n",
    "        expthetas = np.exp( thetas.reshape(self.DoF, nSamples) )\n",
    "        mus = expthetas[self.mu_idx,:]\n",
    "        gammas = expthetas[self.gamma_idx,:]\n",
    "        deltas = expthetas[self.delta_idx,:]\n",
    "        \n",
    "        lamsplus_mus = gammas * np.sum( np.exp( - deltas * ( self.tm_ttold ) ), 0 ) \n",
    "        \n",
    "        D = 1 + deltas * np.log( np.random.uniform(size = nSamples) ) / lamsplus_mus\n",
    "        S = np.zeros(nSamples)\n",
    "        S2 = - np.log( np.random.uniform(size = nSamples) ) / mus\n",
    "        idxplus = np.where(D > 0)\n",
    "        idxminus = np.where(D <= 0)\n",
    "        S[idxplus] = np.min( np.vstack( (- np.log( D[idxplus] ) / deltas[idxplus], S2[idxplus]) ), 0 )\n",
    "        S[idxminus] = S2[idxminus]\n",
    "        \n",
    "        return self.tm + S\n",
    "    \n",
    "    def getMAP(self):\n",
    "        x0 = np.random.normal(size = self.DoF)\n",
    "        res = optimize.minimize(model.getMinusLogPosterior, x0, method='L-BFGS-B')\n",
    "        return res.x\n",
    "        \n",
    "    \n",
    "            "
   ]
  },
  {
   "cell_type": "code",
   "execution_count": 539,
   "metadata": {},
   "outputs": [],
   "source": [
    "thetaTrue = np.array([0,0,1])\n",
    "nOldEvents = 99\n",
    "ttold = np.zeros(nOldEvents)\n",
    "MAPs = np.zeros((model.DoF, nOldEvents+1))\n",
    "for k in range(nOldEvents):\n",
    "        if k == 0:\n",
    "            ttold[0] = - np.log( np.random.uniform() ) / np.exp( thetaTrue[0] )\n",
    "        else:\n",
    "            dummy = 1\n",
    "            model = HAWKES(ttold[:k], dummy)\n",
    "            ttold[k] = model.simulateNewEvent(thetaTrue)\n",
    "            \n",
    "            model = HAWKES(ttold[:k], ttold[k])\n",
    "            MAPs[:,k-1] = model.getMAP()\n",
    "dummy = 1\n",
    "model = HAWKES(ttold, dummy)\n",
    "t = model.simulateNewEvent(thetaTrue)\n",
    "model = HAWKES(ttold, t)\n",
    "MAPs[:,-1] = model.getMAP()"
   ]
  },
  {
   "cell_type": "code",
   "execution_count": 540,
   "metadata": {},
   "outputs": [
    {
     "data": {
      "text/plain": [
       "[<matplotlib.lines.Line2D at 0x22166cf9588>]"
      ]
     },
     "execution_count": 540,
     "metadata": {},
     "output_type": "execute_result"
    },
    {
     "data": {
      "image/png": "[encoded data removed]",
      "text/plain": [
       "<matplotlib.figure.Figure at 0x22166cf9dd8>"
      ]
     },
     "metadata": {},
     "output_type": "display_data"
    }
   ],
   "source": [
    "plt.step(np.hstack((ttold,t)), np.arange(nOldEvents+1))\n",
    "plt.plot(np.hstack((ttold,t)), MAPs[1,:])"
   ]
  },
  {
   "cell_type": "code",
   "execution_count": 541,
   "metadata": {},
   "outputs": [
    {
     "data": {
      "text/plain": [
       "array([ 0.09009102,  0.28753702, -0.43625981])"
      ]
     },
     "execution_count": 541,
     "metadata": {},
     "output_type": "execute_result"
    }
   ],
   "source": [
    "MAP = model.getMAP()\n",
    "MAP"
   ]
  },
  {
   "cell_type": "code",
   "execution_count": 542,
   "metadata": {},
   "outputs": [
    {
     "data": {
      "text/plain": [
       "<matplotlib.collections.PathCollection at 0x22166e457b8>"
      ]
     },
     "execution_count": 542,
     "metadata": {},
     "output_type": "execute_result"
    },
    {
     "data": {
      "image/png": "[encoded data removed]",
      "text/plain": [
       "<matplotlib.figure.Figure at 0x22166972518>"
      ]
     },
     "metadata": {},
     "output_type": "display_data"
    }
   ],
   "source": [
    "size = 100\n",
    "x = np.linspace(-3, 3, size)\n",
    "y = np.linspace(-3, 3, size)\n",
    "X, Y = np.meshgrid(x, y)\n",
    "thetas = np.vstack( (thetaTrue[0] * np.ones(X.size), np.ndarray.flatten(X), np.ndarray.flatten(Y)) )\n",
    "Z = np.exp( - model.getMinusLogPosterior(thetas) ).reshape(size, size)\n",
    "plt.contourf(X,Y,Z)\n",
    "plt.scatter(MAP[1], MAP[2], color = 'b')\n",
    "plt.scatter(thetaTrue[1], thetaTrue[2], color = 'r')"
   ]
  },
  {
   "cell_type": "code",
   "execution_count": null,
   "metadata": {
    "collapsed": true
   },
   "outputs": [],
   "source": []
  },
  {
   "cell_type": "code",
   "execution_count": null,
   "metadata": {
    "collapsed": true
   },
   "outputs": [],
   "source": []
  },
  {
   "cell_type": "code",
   "execution_count": null,
   "metadata": {
    "collapsed": true
   },
   "outputs": [],
   "source": []
  }
 ],
 "metadata": {
  "kernelspec": {
   "display_name": "Python 3",
   "language": "python",
   "name": "python3"
  },
  "language_info": {
   "codemirror_mode": {
    "name": "ipython",
    "version": 3
   },
   "file_extension": ".py",
   "mimetype": "text/x-python",
   "name": "python",
   "nbconvert_exporter": "python",
   "pygments_lexer": "ipython3",
   "version": "3.6.2"
  }
 },
 "nbformat": 4,
 "nbformat_minor": 2
}
